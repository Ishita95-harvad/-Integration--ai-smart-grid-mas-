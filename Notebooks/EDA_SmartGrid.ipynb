{
 "cells": [
  {
   "cell_type": "markdown",
   "id": "41ac242f",
   "metadata": {},
   "source": [
    "# 📊 EDA for Smart Grid Energy Data\n",
    "This notebook performs exploratory data analysis (EDA) on synthetic smart grid datasets for region demand, solar/wind generation, and weather conditions."
   ]
  },
  {
   "cell_type": "code",
   "execution_count": null,
   "id": "033ac145",
   "metadata": {},
   "outputs": [],
   "source": [
    "import pandas as pd\n",
    "import numpy as np\n",
    "import matplotlib.pyplot as plt\n",
    "import seaborn as sns\n",
    "from sklearn.ensemble import IsolationForest\n",
    "from sklearn.preprocessing import MinMaxScaler"
   ]
  },
  {
   "cell_type": "code",
   "execution_count": null,
   "id": "b0634760",
   "metadata": {},
   "outputs": [],
   "source": [
    "# Simulate time-series data for one week (15-min intervals)\n",
    "timestamps = pd.date_range(start='2024-01-01', periods=96*7, freq='15min')\n",
    "np.random.seed(42)\n",
    "data = pd.DataFrame({\n",
    "    'timestamp': timestamps,\n",
    "    'region_demand': np.random.normal(500, 50, size=len(timestamps)),\n",
    "    'solar_gen': np.clip(np.sin(np.linspace(0, 14*np.pi, len(timestamps))) * 300 + np.random.normal(0, 30, len(timestamps)), 0, None),\n",
    "    'wind_gen': np.clip(np.random.normal(150, 40, len(timestamps)), 0, None),\n",
    "    'temperature': np.random.normal(30, 5, size=len(timestamps))\n",
    "})"
   ]
  },
  {
   "cell_type": "code",
   "execution_count": null,
   "id": "1c6c9101",
   "metadata": {},
   "outputs": [],
   "source": [
    "# Feature Engineering\n",
    "data['hour'] = data['timestamp'].dt.hour\n",
    "data['demand_variance'] = data['region_demand'].rolling(window=4).std().fillna(method='bfill')\n",
    "data['moving_avg_demand'] = data['region_demand'].rolling(window=4).mean().fillna(method='bfill')\n",
    "data['weather_score'] = data['temperature'] + 0.1 * data['wind_gen']"
   ]
  },
  {
   "cell_type": "code",
   "execution_count": null,
   "id": "26950e1f",
   "metadata": {},
   "outputs": [],
   "source": [
    "# Load Profile\n",
    "plt.figure(figsize=(12, 4))\n",
    "data.set_index('timestamp')['region_demand'].plot(title=\"Grid Load Profile\")\n",
    "plt.ylabel(\"Load (MW)\")\n",
    "plt.grid()\n",
    "plt.show()"
   ]
  },
  {
   "cell_type": "code",
   "execution_count": null,
   "id": "3e0625e5",
   "metadata": {},
   "outputs": [],
   "source": [
    "# Solar vs Wind Generation\n",
    "plt.figure(figsize=(12, 4))\n",
    "plt.plot(data['timestamp'], data['solar_gen'], label='Solar')\n",
    "plt.plot(data['timestamp'], data['wind_gen'], label='Wind')\n",
    "plt.title(\"Solar vs Wind Generation\")\n",
    "plt.ylabel(\"Generation (kWh)\")\n",
    "plt.legend()\n",
    "plt.grid()\n",
    "plt.show()"
   ]
  },
  {
   "cell_type": "code",
   "execution_count": null,
   "id": "c8ae98c1",
   "metadata": {},
   "outputs": [],
   "source": [
    "# Average Hourly Consumption\n",
    "plt.figure(figsize=(10, 4))\n",
    "data.groupby('hour')['region_demand'].mean().plot(kind='bar', title=\"Average Hourly Consumption\")\n",
    "plt.ylabel(\"Average Demand (MW)\")\n",
    "plt.grid()\n",
    "plt.show()"
   ]
  },
  {
   "cell_type": "code",
   "execution_count": null,
   "id": "86217261",
   "metadata": {},
   "outputs": [],
   "source": [
    "# Correlation Heatmap\n",
    "plt.figure(figsize=(6, 4))\n",
    "sns.heatmap(data[['temperature', 'solar_gen', 'wind_gen', 'region_demand']].corr(), annot=True, cmap='coolwarm')\n",
    "plt.title(\"Correlation Heatmap\")\n",
    "plt.tight_layout()\n",
    "plt.show()"
   ]
  },
  {
   "cell_type": "code",
   "execution_count": null,
   "id": "725a983b",
   "metadata": {},
   "outputs": [],
   "source": [
    "# Anomaly Detection using Isolation Forest\n",
    "X = data[['region_demand', 'solar_gen', 'wind_gen']]\n",
    "model = IsolationForest(contamination=0.01, random_state=42)\n",
    "data['anomaly'] = model.fit_predict(X)\n",
    "\n",
    "plt.figure(figsize=(12, 4))\n",
    "anomalies = data[data['anomaly'] == -1]\n",
    "plt.plot(data['timestamp'], data['region_demand'], label='Demand')\n",
    "plt.scatter(anomalies['timestamp'], anomalies['region_demand'], color='red', label='Anomalies', s=10)\n",
    "plt.title(\"Anomaly Detection in Demand\")\n",
    "plt.legend()\n",
    "plt.grid()\n",
    "plt.show()"
   ]
  }
 ],
 "metadata": {},
 "nbformat": 4,
 "nbformat_minor": 5
}
